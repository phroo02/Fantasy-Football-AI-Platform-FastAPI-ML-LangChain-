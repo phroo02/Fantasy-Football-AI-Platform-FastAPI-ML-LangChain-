{
 "cells": [
  {
   "cell_type": "markdown",
   "id": "f590cd2d",
   "metadata": {},
   "source": [
    "# LangGraph Agent\n",
    "## Without tools"
   ]
  },
  {
   "cell_type": "markdown",
   "id": "ddbe3873",
   "metadata": {},
   "source": [
    "## Library Imports"
   ]
  },
  {
   "cell_type": "code",
   "execution_count": 1,
   "id": "3a8a041d",
   "metadata": {},
   "outputs": [
    {
     "name": "stdout",
     "output_type": "stream",
     "text": [
      "SWC_API_BASE_URL in SWCConfig init: http://0.0.0.0:8000\n"
     ]
    }
   ],
   "source": [
    "from langchain_core.messages import HumanMessage\n",
    "from langchain_google_genai import ChatGoogleGenerativeAI\n",
    "from langgraph.checkpoint.memory import MemorySaver\n",
    "from langgraph.graph import END, START, StateGraph, MessagesState\n",
    "import logging\n",
    "from IPython.display import Image, Markdown, display\n",
    "from langchain_core.runnables.graph import CurveStyle, MermaidDrawMethod, NodeStyles\n",
    "import os  # <-- ADD THIS\n",
    "\n",
    "\n",
    "\n",
    "from swc_toolkit import SportsWorldCentralToolkit\n",
    "from langchain_core.tools import tool\n",
    "from langgraph.prebuilt import ToolNode\n",
    "from typing import Literal"
   ]
  },
  {
   "cell_type": "markdown",
   "id": "77cd61c5",
   "metadata": {},
   "source": [
    "## Configure logging"
   ]
  },
  {
   "cell_type": "code",
   "execution_count": 2,
   "id": "9847d0c4",
   "metadata": {},
   "outputs": [],
   "source": [
    "for handler in logging.root.handlers[:]:\n",
    "    logging.root.removeHandler(handler)\n",
    "\n",
    "logging.basicConfig(\n",
    "    filename='langgraph_notebook.log',  \n",
    "    level=logging.INFO,\n",
    ")"
   ]
  },
  {
   "cell_type": "markdown",
   "id": "d853ea17",
   "metadata": {},
   "source": [
    "## Create toolkit"
   ]
  },
  {
   "cell_type": "code",
   "execution_count": 3,
   "id": "16e4f26b",
   "metadata": {},
   "outputs": [],
   "source": [
    "swc_toolkit = SportsWorldCentralToolkit()\n",
    "tools = swc_toolkit.get_tools()"
   ]
  },
  {
   "cell_type": "markdown",
   "id": "a97af431",
   "metadata": {},
   "source": [
    "## Configure Agent and Model"
   ]
  },
  {
   "cell_type": "code",
   "execution_count": 4,
   "id": "233ee1dc",
   "metadata": {},
   "outputs": [],
   "source": [
    "tool_node = ToolNode(tools)\n",
    "import os\n",
    "\n",
    "# --- API Key Configuration ---\n",
    "if \"GOOGLE_API_KEY\" not in os.environ:\n",
    "    print(\"Warning: GOOGLE_API_KEY not set. Please set it as a Codespace secret.\")\n",
    "\n",
    "\n",
    "# --- Model Definition ---\n",
    "model = ChatGoogleGenerativeAI(model=\"gemini-2.5-pro\", temperature=0).bind_tools(tools)\n",
    "\n",
    "# ▼▼▼ ALL THE CODE BELOW THIS LINE REMAINS THE SAME ▼▼▼\n",
    "def should_continue(state: MessagesState) -> Literal[\"tools\", END]:\n",
    "    messages = state['messages']\n",
    "    last_message = messages[-1]\n",
    "    if last_message.tool_calls:\n",
    "        return \"tools\"\n",
    "    return END\n",
    "\n",
    "def call_model(state: MessagesState):\n",
    "    messages = state['messages']\n",
    "    response = model.invoke(messages)\n",
    "    return {\"messages\": [response]}\n",
    "\n",
    "workflow = StateGraph(MessagesState)\n",
    "\n",
    "workflow.add_node(\"agent\", call_model)\n",
    "workflow.add_node(\"tools\", tool_node)\n",
    "\n",
    "workflow.add_edge(START, \"agent\")\n",
    "\n",
    "workflow.add_conditional_edges(\n",
    "    \"agent\",\n",
    "    should_continue,\n",
    ")\n",
    "workflow.add_edge(\"tools\", 'agent')\n",
    "\n",
    "checkpointer = MemorySaver()\n",
    "\n",
    "app = workflow.compile(checkpointer=checkpointer)"
   ]
  },
  {
   "cell_type": "markdown",
   "id": "2ad957ba",
   "metadata": {},
   "source": [
    "## Visualize the Graph"
   ]
  },
  {
   "cell_type": "code",
   "execution_count": 5,
   "id": "2e851b56",
   "metadata": {},
   "outputs": [
    {
     "data": {
      "image/png": "[encoded data removed]",
      "text/plain": [
       "<IPython.core.display.Image object>"
      ]
     },
     "metadata": {},
     "output_type": "display_data"
    }
   ],
   "source": [
    "display(\n",
    "    Image(\n",
    "        app.get_graph().draw_mermaid_png(\n",
    "            draw_method=MermaidDrawMethod.API,\n",
    "        )\n",
    "    )\n",
    ")"
   ]
  },
  {
   "cell_type": "markdown",
   "id": "a267257e",
   "metadata": {},
   "source": [
    "## Chat with the Agent and its tools"
   ]
  },
  {
   "cell_type": "code",
   "execution_count": 6,
   "id": "92a5fd87",
   "metadata": {},
   "outputs": [
    {
     "data": {
      "text/markdown": [
       "Here are the leagues in the SportsWorldCentral fantasy football platform:\n",
       "\n",
       "* Pigskin Prodigal Fantasy League\n",
       "* Recurring Champions League\n",
       "* AHAHFZZFFFL\n",
       "* Gridiron Gurus Fantasy League\n",
       "* Best League Ever"
      ],
      "text/plain": [
       "<IPython.core.display.Markdown object>"
      ]
     },
     "metadata": {},
     "output_type": "display_data"
    }
   ],
   "source": [
    "final_state = app.invoke(\n",
    "    {\"messages\": [HumanMessage(content=\"What are the leagues in the SportsWorldCentral fantasy football platform? Keep the response simple.\")]},\n",
    "    config={\"configurable\": {\"thread_id\": 99}}\n",
    ")\n",
    "display(Markdown(final_state[\"messages\"][-1].content))"
   ]
  }
 ],
 "metadata": {
  "kernelspec": {
   "display_name": "Python 3",
   "language": "python",
   "name": "python3"
  },
  "language_info": {
   "codemirror_mode": {
    "name": "ipython",
    "version": 3
   },
   "file_extension": ".py",
   "mimetype": "text/x-python",
   "name": "python",
   "nbconvert_exporter": "python",
   "pygments_lexer": "ipython3",
   "version": "3.12.1"
  }
 },
 "nbformat": 4,
 "nbformat_minor": 5
}
