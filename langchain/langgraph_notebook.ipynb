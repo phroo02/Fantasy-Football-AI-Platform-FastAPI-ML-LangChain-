{
 "cells": [
  {
   "cell_type": "markdown",
   "id": "f590cd2d",
   "metadata": {},
   "source": [
    "# LangGraph Agent\n",
    "## Without tools"
   ]
  },
  {
   "cell_type": "markdown",
   "id": "ddbe3873",
   "metadata": {},
   "source": [
    "## Library Imports"
   ]
  },
  {
   "cell_type": "code",
   "execution_count": 1,
   "id": "3a8a041d",
   "metadata": {},
   "outputs": [],
   "source": [
    "from langchain_core.messages import HumanMessage\n",
    "# from langchain_anthropic import ChatAnthropic  <-- REMOVE THIS\n",
    "from langchain_google_genai import ChatGoogleGenerativeAI  # <-- ADD THIS\n",
    "from langgraph.checkpoint.memory import MemorySaver\n",
    "from langgraph.graph import END, START, StateGraph, MessagesState\n",
    "import logging\n",
    "from IPython.display import Image, Markdown, display\n",
    "from langchain_core.runnables.graph import CurveStyle, MermaidDrawMethod, NodeStyles\n",
    "import os  # <-- ADD THIS"
   ]
  },
  {
   "cell_type": "markdown",
   "id": "77cd61c5",
   "metadata": {},
   "source": [
    "## Configure logging"
   ]
  },
  {
   "cell_type": "code",
   "execution_count": 2,
   "id": "9847d0c4",
   "metadata": {},
   "outputs": [],
   "source": [
    "for handler in logging.root.handlers[:]:\n",
    "    logging.root.removeHandler(handler)\n",
    "\n",
    "logging.basicConfig(\n",
    "    filename='langgraph_notebook.log',  \n",
    "    level=logging.INFO,\n",
    ")"
   ]
  },
  {
   "cell_type": "code",
   "execution_count": 3,
   "id": "233ee1dc",
   "metadata": {},
   "outputs": [],
   "source": [
    "import os\n",
    "\n",
    "# --- API Key Configuration ---\n",
    "# IMPORTANT: For security, add your GOOGLE_API_KEY as a secret\n",
    "# in your GitHub Codespace settings.\n",
    "# The code will automatically read it from the environment.\n",
    "if \"GOOGLE_API_KEY\" not in os.environ:\n",
    "    print(\"Warning: GOOGLE_API_KEY not set. Please set it as a Codespace secret.\")\n",
    "    # You can temporarily set it here for testing, but DO NOT commit this file:\n",
    "    # os.environ[\"GOOGLE_API_KEY\"] = \"YOUR_API_KEY_HERE\"\n",
    "\n",
    "# --- Model Definition ---\n",
    "# model = ChatAnthropic(model=\"claude-3-5-sonnet-20240620\", temperature=0) # <-- REMOVE THIS\n",
    "model = ChatGoogleGenerativeAI(model=\"gemini-2.5-pro\", temperature=0) # <-- ADD THIS\n",
    "\n",
    "# ▼▼▼ ALL THE CODE BELOW THIS LINE REMAINS THE SAME ▼▼▼\n",
    "\n",
    "def call_model(state: MessagesState):\n",
    "    messages = state['messages']\n",
    "    response = model.invoke(messages)\n",
    "    return {\"messages\": [response]}\n",
    "\n",
    "workflow = StateGraph(MessagesState)\n",
    "\n",
    "workflow.add_node(\"agent\", call_model)\n",
    "\n",
    "workflow.add_edge(START, \"agent\")\n",
    "\n",
    "checkpointer = MemorySaver()\n",
    "\n",
    "app = workflow.compile(checkpointer=checkpointer)"
   ]
  },
  {
   "cell_type": "markdown",
   "id": "2ad957ba",
   "metadata": {},
   "source": [
    "## Visualize the Graph"
   ]
  },
  {
   "cell_type": "code",
   "execution_count": 4,
   "id": "2e851b56",
   "metadata": {},
   "outputs": [
    {
     "data": {
      "image/png": "[encoded data removed]",
      "text/plain": [
       "<IPython.core.display.Image object>"
      ]
     },
     "metadata": {},
     "output_type": "display_data"
    }
   ],
   "source": [
    "display(\n",
    "    Image(\n",
    "        app.get_graph().draw_mermaid_png(\n",
    "            draw_method=MermaidDrawMethod.API,\n",
    "        )\n",
    "    )\n",
    ")"
   ]
  },
  {
   "cell_type": "code",
   "execution_count": 6,
   "id": "92a5fd87",
   "metadata": {},
   "outputs": [
    {
     "data": {
      "text/markdown": [
       "Joe Montana played for two NFL teams during his legendary career:\n",
       "\n",
       "1.  **San Francisco 49ers** (1979–1992)\n",
       "    *   This is the team where he became an icon. He led the 49ers to four Super Bowl victories (XVI, XIX, XXIII, XXIV) and was named Super Bowl MVP three times.\n",
       "\n",
       "2.  **Kansas City Chiefs** (1993–1994)\n",
       "    *   After a trade from San Francisco, he finished his career with the Chiefs, leading them to the AFC Championship Game in his first season with the team. He retired after the 1994 season."
      ],
      "text/plain": [
       "<IPython.core.display.Markdown object>"
      ]
     },
     "metadata": {},
     "output_type": "display_data"
    }
   ],
   "source": [
    "final_state = app.invoke(\n",
    "    {\"messages\": [HumanMessage(content=\"What teams did Joe Montana play for?\")]},\n",
    "    config={\"configurable\": {\"thread_id\": 99}}\n",
    ")\n",
    "display(Markdown(final_state[\"messages\"][-1].content))"
   ]
  },
  {
   "cell_type": "code",
   "execution_count": 9,
   "id": "b0a8ec16",
   "metadata": {},
   "outputs": [
    {
     "data": {
      "text/markdown": [
       "That's an interesting question! It appears that **\"SportsWorldCentral\" is not a real or known fantasy football platform.**\n",
       "\n",
       "It's possible you may be thinking of a different site, or it might be a fictional platform from a show, book, or game. The major, real-world fantasy football platforms include:\n",
       "\n",
       "*   **ESPN Fantasy**\n",
       "*   **Yahoo Fantasy Sports**\n",
       "*   **Sleeper**\n",
       "*   **NFL.com Fantasy**\n",
       "*   **CBS Sports Fantasy**\n",
       "*   **Fleaflicker**\n",
       "\n",
       "However, if you're asking about the *types* of leagues that are typically available on these platforms, they generally fall into these common categories:\n",
       "\n",
       "### Common Types of Fantasy Football Leagues\n",
       "\n",
       "**1. Based on Scoring Rules:**\n",
       "*   **Standard (or Non-PPR):** Players only get points for yards and touchdowns. Receptions are not awarded points.\n",
       "*   **PPR (Point Per Reception):** In addition to yards and touchdowns, players (usually WRs, RBs, and TEs) get a full point for every catch they make.\n",
       "*   **Half-PPR:** A popular middle ground where players receive half a point (0.5) for every reception.\n",
       "*   **Best Ball:** A draft-only format. You draft your team, and the platform automatically sets your optimal lineup each week based on who scored the most points. There are no in-season moves like trades or waiver claims.\n",
       "*   **IDP (Individual Defensive Player):** Instead of a team defense (D/ST), you draft individual defensive players (like linebackers, defensive ends, etc.) who score points for tackles, sacks, and interceptions.\n",
       "*   **Superflex/2QB:** These leagues have a \"flex\" position where you can start a quarterback, making QBs much more valuable and changing draft strategy significantly.\n",
       "\n",
       "**2. Based on Roster Management:**\n",
       "*   **Redraft:** This is the most common type. You draft a new team from scratch every single year.\n",
       "*   **Keeper:** At the end of the season, you can \"keep\" a certain number of players from your roster to be on your team the following year, usually at the cost of a draft pick.\n",
       "*   **Dynasty:** The most intensive format. You keep your entire roster from year to year, and the annual draft is only for incoming NFL rookies. It's like being a real NFL General Manager.\n",
       "\n",
       "**3. Based on How You Join:**\n",
       "*   **Public Leagues:** Open to anyone on the platform. The platform randomly places you in a league with other strangers.\n",
       "*   **Private Leagues:** The most popular option for playing with friends, family, or coworkers. A commissioner creates the league and sends out private invitations to join.\n",
       "\n",
       "If you can recall a different name for the platform, I'd be happy to give you more specific information"
      ],
      "text/plain": [
       "<IPython.core.display.Markdown object>"
      ]
     },
     "metadata": {},
     "output_type": "display_data"
    }
   ],
   "source": [
    "final_state = app.invoke(\n",
    "    {\"messages\": [HumanMessage(content=\"What are the leagues in the SportsWorldCentral fantasy football platform?\")]},\n",
    "    config={\"configurable\": {\"thread_id\": 99}}\n",
    ")\n",
    "display(Markdown(final_state[\"messages\"][-1].content))"
   ]
  },
  {
   "cell_type": "code",
   "execution_count": 10,
   "id": "b1f2bb7c",
   "metadata": {},
   "outputs": [
    {
     "data": {
      "text/markdown": [
       "Excellent question. Unlike platforms like ESPN or Yahoo, which offer standardized public leagues, **MyFantasyLeague (MFL) operates differently.**\n",
       "\n",
       "Instead of having its own named leagues (like \"The MFL Pro League\"), MFL is a highly customizable platform that serves as a \"sandbox\" for commissioners to create and run their own unique leagues. Think of it less as a restaurant with a set menu and more as a professional kitchen where you can cook whatever you want.\n",
       "\n",
       "So, the answer to \"What are the leagues in MyFantasyLeague?\" is: **Whatever leagues its users can imagine and create.**\n",
       "\n",
       "Here’s a breakdown of the types of leagues that MFL is famous for hosting, which is likely what you're looking for:\n",
       "\n",
       "### 1. The Core of MFL: Complex, Long-Term Leagues\n",
       "\n",
       "MFL is the go-to platform for serious fantasy players who want deep, complex formats that free sites can't support.\n",
       "\n",
       "*   **Dynasty Leagues:** This is MFL's bread and butter. In a dynasty league, you keep your entire roster from year to year. MFL excels here because it supports year-round access, multi-year draft pick trading, complex rookie drafts, and detailed historical tracking.\n",
       "*   **Keeper Leagues:** A less intense version of dynasty where you keep a set number of players each year. MFL's customization allows for complex keeper rules, like associating draft pick costs with players.\n",
       "*   **Salary Cap & Contract Leagues:** These are the most advanced formats. Commissioners can assign fictional salaries and contract lengths to players. Owners must manage a team budget, deal with expiring contracts, and handle things like franchise tags—mimicking a real NFL front office. MFL is one of the few platforms that can handle this level of detail.\n",
       "\n",
       "### 2. Advanced Scoring and Roster Formats\n",
       "\n",
       "MFL's customization allows for virtually any scoring or roster setup you can think of.\n",
       "\n",
       "*   **IDP (Individual Defensive Player) Leagues:** While other sites have basic IDP, MFL allows for incredibly deep and nuanced scoring. You can have different scoring for a defensive tackle versus a cornerback and use a large number of defensive roster spots.\n",
       "*   **Superflex / 2QB Leagues:** Easily supports formats where starting a second quarterback is possible, dramatically changing player values.\n",
       "*   **Auction Leagues:** MFL has a robust and reliable auction draft module that is highly customizable.\n",
       "*   **Empire Leagues:** A type of dynasty league where the league ends and the prize pot is awarded only when one owner wins the championship two years in a row (or some other set condition).\n",
       "\n",
       "### 3. Finding a League on MFL\n",
       "\n",
       "Since MFL doesn't offer standard \"public leagues\" to join, you have to find one that is looking for new owners.\n",
       "\n",
       "*   **League Openings Forum:** The MFL website has a dedicated message board called **\"League Openings\"** where commissioners post advertisements for their leagues. They will detail the scoring, rules, buy-in, and what kind of owner they are looking for. This is the primary way to find a team on the platform.\n",
       "*   **Orphan Teams:** Many of the openings are for \"orphan teams\"—teams in existing dynasty or keeper leagues that were abandoned by their previous owner. Taking over an orphan can be a fun challenge of rebuilding a roster.\n",
       "\n",
       "### A Note on MFL's Past Contests (MFL10s)\n",
       "\n",
       "For many years, MFL was famous for its own public contests called **MFL10s**. These were \"best ball\" leagues (draft-only, no in-season management) with a $10 entry fee. However, these contests were discontinued several years ago after MFL was acquired. The best ball format is now primarily found on other sites like **Underdog Fantasy** and **DraftKings**.\n",
       "\n",
       "**In summary: MyFantasyLeague doesn't have its own set leagues. It is a powerful, commissioner-centric platform used to build and host highly customized fantasy football leagues, especially Dynasty, Keeper, and Salary Cap formats.**"
      ],
      "text/plain": [
       "<IPython.core.display.Markdown object>"
      ]
     },
     "metadata": {},
     "output_type": "display_data"
    }
   ],
   "source": [
    "final_state = app.invoke(\n",
    "    {\"messages\": [HumanMessage(content=\"What are the leagues in the MyFantasyLeague fantasy football platform?\")]},\n",
    "    config={\"configurable\": {\"thread_id\": 99}}\n",
    ")\n",
    "display(Markdown(final_state[\"messages\"][-1].content))"
   ]
  },
  {
   "cell_type": "markdown",
   "id": "8bf38804",
   "metadata": {},
   "source": [
    "“pip install swcpy@git+https://github.com/handsonapibook/api-book-part-one#subdirectory=chapter7/complete/sdk\n",
    "\n",
    "”\n",
    "\n",
    "Excerpt From\n",
    "Hands-On APIs for AI and Data Science\n",
    "Ryan Day\n",
    "This material may be protected by copyright."
   ]
  }
 ],
 "metadata": {
  "kernelspec": {
   "display_name": "Python 3",
   "language": "python",
   "name": "python3"
  },
  "language_info": {
   "codemirror_mode": {
    "name": "ipython",
    "version": 3
   },
   "file_extension": ".py",
   "mimetype": "text/x-python",
   "name": "python",
   "nbconvert_exporter": "python",
   "pygments_lexer": "ipython3",
   "version": "3.12.1"
  }
 },
 "nbformat": 4,
 "nbformat_minor": 5
}
